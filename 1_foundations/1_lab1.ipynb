{
 "cells": [
  {
   "cell_type": "markdown",
   "metadata": {},
   "source": [
    "# Welcome to the start of your adventure in Agentic AI"
   ]
  },
  {
   "cell_type": "markdown",
   "metadata": {},
   "source": [
    "<table style=\"margin: 0; text-align: left; width:100%\">\n",
    "    <tr>\n",
    "        <td style=\"width: 150px; height: 150px; vertical-align: middle;\">\n",
    "            <img src=\"../assets/stop.png\" width=\"150\" height=\"150\" style=\"display: block;\" />\n",
    "        </td>\n",
    "        <td>\n",
    "            <h2 style=\"color:#ff7800;\">Are you ready for action??</h2>\n",
    "            <span style=\"color:#ff7800;\">Have you completed all the setup steps in the <a href=\"../setup/\">setup</a> folder?<br/>\n",
    "            Have you checked out the guides in the <a href=\"../guides/01_intro.ipynb\">guides</a> folder?<br/>\n",
    "            Well in that case, you're ready!!\n",
    "            </span>\n",
    "        </td>\n",
    "    </tr>\n",
    "</table>"
   ]
  },
  {
   "cell_type": "markdown",
   "metadata": {},
   "source": [
    "<table style=\"margin: 0; text-align: left; width:100%\">\n",
    "    <tr>\n",
    "        <td style=\"width: 150px; height: 150px; vertical-align: middle;\">\n",
    "            <img src=\"../assets/tools.png\" width=\"150\" height=\"150\" style=\"display: block;\" />\n",
    "        </td>\n",
    "        <td>\n",
    "            <h2 style=\"color:#00bfff;\">This code is a live resource - keep an eye out for my updates</h2>\n",
    "            <span style=\"color:#00bfff;\">I push updates regularly. As people ask questions or have problems, I add more examples and improve explanations. As a result, the code below might not be identical to the videos, as I've added more steps and better comments. Consider this like an interactive book that accompanies the lectures.<br/><br/>\n",
    "            I try to send emails regularly with important updates related to the course. You can find this in the 'Announcements' section of Udemy in the left sidebar. You can also choose to receive my emails via your Notification Settings in Udemy. I'm respectful of your inbox and always try to add value with my emails!\n",
    "            </span>\n",
    "        </td>\n",
    "    </tr>\n",
    "</table>"
   ]
  },
  {
   "cell_type": "markdown",
   "metadata": {},
   "source": [
    "### And please do remember to contact me if I can help\n",
    "\n",
    "And I love to connect: https://www.linkedin.com/in/eddonner/\n",
    "\n",
    "\n",
    "### New to Notebooks like this one? Head over to the guides folder!\n",
    "\n",
    "Just to check you've already added the Python and Jupyter extensions to Cursor, if not already installed:\n",
    "- Open extensions (View >> extensions)\n",
    "- Search for python, and when the results show, click on the ms-python one, and Install it if not already installed\n",
    "- Search for jupyter, and when the results show, click on the Microsoft one, and Install it if not already installed  \n",
    "Then View >> Explorer to bring back the File Explorer.\n",
    "\n",
    "And then:\n",
    "1. Click where it says \"Select Kernel\" near the top right, and select the option called `.venv (Python 3.12.9)` or similar, which should be the first choice or the most prominent choice. You may need to choose \"Python Environments\" first.\n",
    "2. Click in each \"cell\" below, starting with the cell immediately below this text, and press Shift+Enter to run\n",
    "3. Enjoy!\n",
    "\n",
    "After you click \"Select Kernel\", if there is no option like `.venv (Python 3.12.9)` then please do the following:  \n",
    "1. On Mac: From the Cursor menu, choose Settings >> VS Code Settings (NOTE: be sure to select `VSCode Settings` not `Cursor Settings`);  \n",
    "On Windows PC: From the File menu, choose Preferences >> VS Code Settings(NOTE: be sure to select `VSCode Settings` not `Cursor Settings`)  \n",
    "2. In the Settings search bar, type \"venv\"  \n",
    "3. In the field \"Path to folder with a list of Virtual Environments\" put the path to the project root, like C:\\Users\\username\\projects\\agents (on a Windows PC) or /Users/username/projects/agents (on Mac or Linux).  \n",
    "And then try again.\n",
    "\n",
    "Having problems with missing Python versions in that list? Have you ever used Anaconda before? It might be interferring. Quit Cursor, bring up a new command line, and make sure that your Anaconda environment is deactivated:    \n",
    "`conda deactivate`  \n",
    "And if you still have any problems with conda and python versions, it's possible that you will need to run this too:  \n",
    "`conda config --set auto_activate_base false`  \n",
    "and then from within the Agents directory, you should be able to run `uv python list` and see the Python 3.12 version."
   ]
  },
  {
   "cell_type": "code",
   "execution_count": 1,
   "metadata": {},
   "outputs": [],
   "source": [
    "# First let's do an import\n",
    "from dotenv import load_dotenv\n"
   ]
  },
  {
   "cell_type": "code",
   "execution_count": 2,
   "metadata": {},
   "outputs": [
    {
     "data": {
      "text/plain": [
       "False"
      ]
     },
     "execution_count": 2,
     "metadata": {},
     "output_type": "execute_result"
    }
   ],
   "source": [
    "# Next it's time to load the API keys into environment variables\n",
    "\n",
    "load_dotenv(override=True)"
   ]
  },
  {
   "cell_type": "code",
   "execution_count": 3,
   "metadata": {},
   "outputs": [
    {
     "name": "stdout",
     "output_type": "stream",
     "text": [
      "OpenAI API Key exists and begins sk-proj-\n"
     ]
    }
   ],
   "source": [
    "# Check the keys\n",
    "\n",
    "import os\n",
    "openai_api_key = os.getenv('OPENAI_API_KEY')\n",
    "\n",
    "if openai_api_key:\n",
    "    print(f\"OpenAI API Key exists and begins {openai_api_key[:8]}\")\n",
    "else:\n",
    "    print(\"OpenAI API Key not set - please head to the troubleshooting guide in the setup folder\")\n",
    "    \n"
   ]
  },
  {
   "cell_type": "code",
   "execution_count": 4,
   "metadata": {},
   "outputs": [],
   "source": [
    "# And now - the all important import statement\n",
    "# If you get an import error - head over to troubleshooting guide\n",
    "\n",
    "from openai import OpenAI"
   ]
  },
  {
   "cell_type": "code",
   "execution_count": 5,
   "metadata": {},
   "outputs": [],
   "source": [
    "# And now we'll create an instance of the OpenAI class\n",
    "# If you're not sure what it means to create an instance of a class - head over to the guides folder!\n",
    "# If you get a NameError - head over to the guides folder to learn about NameErrors\n",
    "\n",
    "openai = OpenAI()"
   ]
  },
  {
   "cell_type": "code",
   "execution_count": 6,
   "metadata": {},
   "outputs": [],
   "source": [
    "# Create a list of messages in the familiar OpenAI format\n",
    "\n",
    "messages = [{\"role\": \"user\", \"content\": \"What is 2+2?\"}]"
   ]
  },
  {
   "cell_type": "code",
   "execution_count": 7,
   "metadata": {},
   "outputs": [
    {
     "name": "stdout",
     "output_type": "stream",
     "text": [
      "2 + 2 equals 4.\n"
     ]
    }
   ],
   "source": [
    "# And now call it! Any problems, head to the troubleshooting guide\n",
    "# This uses GPT 4.1 nano, the incredibly cheap model\n",
    "\n",
    "response = openai.chat.completions.create(\n",
    "    model=\"gpt-4.1-nano\",\n",
    "    messages=messages\n",
    ")\n",
    "\n",
    "print(response.choices[0].message.content)\n"
   ]
  },
  {
   "cell_type": "code",
   "execution_count": 8,
   "metadata": {},
   "outputs": [],
   "source": [
    "# And now - let's ask for a question:\n",
    "\n",
    "question = \"Please propose a hard, challenging question to assess someone's IQ. Respond only with the question.\"\n",
    "messages = [{\"role\": \"user\", \"content\": question}]\n"
   ]
  },
  {
   "cell_type": "code",
   "execution_count": 9,
   "metadata": {},
   "outputs": [
    {
     "name": "stdout",
     "output_type": "stream",
     "text": [
      "If it takes 5 machines 5 minutes to make 5 widgets, how long would it take 100 machines to make 100 widgets?\n"
     ]
    }
   ],
   "source": [
    "# ask it - this uses GPT 4.1 mini, still cheap but more powerful than nano\n",
    "\n",
    "response = openai.chat.completions.create(\n",
    "    model=\"gpt-4.1-mini\",\n",
    "    messages=messages\n",
    ")\n",
    "\n",
    "question = response.choices[0].message.content\n",
    "\n",
    "print(question)\n"
   ]
  },
  {
   "cell_type": "markdown",
   "metadata": {},
   "source": [
    "If a cube has all its edges painted and is then cut into 27 smaller cubes of equal size, how many of those smaller cubes have exactly two painted faces?"
   ]
  },
  {
   "cell_type": "code",
   "execution_count": 10,
   "metadata": {},
   "outputs": [],
   "source": [
    "# form a new messages list\n",
    "messages = [{\"role\": \"user\", \"content\": question}]\n"
   ]
  },
  {
   "cell_type": "code",
   "execution_count": 11,
   "metadata": {},
   "outputs": [
    {
     "name": "stdout",
     "output_type": "stream",
     "text": [
      "Let's break down the problem step-by-step:\n",
      "\n",
      "- **Given:** 5 machines take 5 minutes to make 5 widgets.\n",
      "  \n",
      "  This means:\n",
      "  - The rate of one machine is 1 widget in 5 minutes (since 5 machines make 5 widgets in 5 minutes, each machine makes 1 widget in 5 minutes).\n",
      "\n",
      "- **Question:** How long would it take 100 machines to make 100 widgets?\n",
      "\n",
      "Since each machine makes 1 widget in 5 minutes, 100 machines will make 100 widgets in the same 5 minutes.\n",
      "\n",
      "**Answer:** It would take **5 minutes** for 100 machines to make 100 widgets.\n"
     ]
    }
   ],
   "source": [
    "# Ask it again\n",
    "\n",
    "response = openai.chat.completions.create(\n",
    "    model=\"gpt-4.1-mini\",\n",
    "    messages=messages\n",
    ")\n",
    "\n",
    "answer = response.choices[0].message.content\n",
    "print(answer)\n"
   ]
  },
  {
   "cell_type": "code",
   "execution_count": 12,
   "metadata": {},
   "outputs": [
    {
     "data": {
      "text/markdown": [
       "Let's break down the problem step-by-step:\n",
       "\n",
       "- **Given:** 5 machines take 5 minutes to make 5 widgets.\n",
       "  \n",
       "  This means:\n",
       "  - The rate of one machine is 1 widget in 5 minutes (since 5 machines make 5 widgets in 5 minutes, each machine makes 1 widget in 5 minutes).\n",
       "\n",
       "- **Question:** How long would it take 100 machines to make 100 widgets?\n",
       "\n",
       "Since each machine makes 1 widget in 5 minutes, 100 machines will make 100 widgets in the same 5 minutes.\n",
       "\n",
       "**Answer:** It would take **5 minutes** for 100 machines to make 100 widgets."
      ],
      "text/plain": [
       "<IPython.core.display.Markdown object>"
      ]
     },
     "metadata": {},
     "output_type": "display_data"
    }
   ],
   "source": [
    "from IPython.display import Markdown, display\n",
    "\n",
    "display(Markdown(answer))\n",
    "\n"
   ]
  },
  {
   "cell_type": "markdown",
   "metadata": {},
   "source": [
    "# Congratulations!\n",
    "\n",
    "That was a small, simple step in the direction of Agentic AI, with your new environment!\n",
    "\n",
    "Next time things get more interesting..."
   ]
  },
  {
   "cell_type": "markdown",
   "metadata": {},
   "source": [
    "<table style=\"margin: 0; text-align: left; width:100%\">\n",
    "    <tr>\n",
    "        <td style=\"width: 150px; height: 150px; vertical-align: middle;\">\n",
    "            <img src=\"../assets/exercise.png\" width=\"150\" height=\"150\" style=\"display: block;\" />\n",
    "        </td>\n",
    "        <td>\n",
    "            <h2 style=\"color:#ff7800;\">Exercise</h2>\n",
    "            <span style=\"color:#ff7800;\">Now try this commercial application:<br/>\n",
    "            First ask the LLM to pick a business area that might be worth exploring for an Agentic AI opportunity.<br/>\n",
    "            Then ask the LLM to present a pain-point in that industry - something challenging that might be ripe for an Agentic solution.<br/>\n",
    "            Finally have 3 third LLM call propose the Agentic AI solution.\n",
    "            </span>\n",
    "        </td>\n",
    "    </tr>\n",
    "</table>"
   ]
  },
  {
   "cell_type": "code",
   "execution_count": 13,
   "metadata": {},
   "outputs": [
    {
     "name": "stdout",
     "output_type": "stream",
     "text": [
      "Healthcare technology\n"
     ]
    }
   ],
   "source": [
    "# First create the messages:\n",
    "\n",
    "messages = [{\"role\": \"user\", \"content\": \"Please return only a business area that might be worth exploring for an Agentic AI opportunity\"}]\n",
    "\n",
    "# Then make the first call:\n",
    "\n",
    "response = openai.chat.completions.create(\n",
    "    model=\"gpt-4.1-nano\",\n",
    "    messages=messages\n",
    ")\n",
    "\n",
    "# Then read the business idea:\n",
    "\n",
    "business_idea = response.choices[0].message.content\n",
    "print(business_idea)"
   ]
  },
  {
   "cell_type": "code",
   "execution_count": 14,
   "metadata": {},
   "outputs": [
    {
     "name": "stdout",
     "output_type": "stream",
     "text": [
      "Limited interoperability between healthcare systems hampers seamless data sharing and care coordination.\n"
     ]
    }
   ],
   "source": [
    "\n",
    "# And repeat!\n",
    "messages = [{\"role\": \"user\", \"content\": f\"Please return only a pain point in the {business_idea} industry\"}]\n",
    "\n",
    "response = openai.chat.completions.create(\n",
    "    model=\"gpt-4.1-nano\",\n",
    "    messages=messages\n",
    ")\n",
    "\n",
    "pain_point = response.choices[0].message.content\n",
    "print(pain_point)"
   ]
  },
  {
   "cell_type": "code",
   "execution_count": 15,
   "metadata": {},
   "outputs": [
    {
     "name": "stdout",
     "output_type": "stream",
     "text": [
      "To address the limited interoperability between healthcare systems and enhance seamless data sharing and care coordination, an Agentic AI solution can be designed with the following approach:\n",
      "\n",
      "**Overview:**\n",
      "Implement an **Autonomous Data Integration and Coordination Agent (ADICA)**—an intelligent, agent-based system that acts as an independent facilitator for secure, standardized, and efficient data exchange across disparate healthcare platforms.\n",
      "\n",
      "**Key Components & Functionality:**\n",
      "\n",
      "1. **Standardized Data Translator Agents:**\n",
      "   - Develop specialized agents that understand various healthcare data standards (e.g., HL7, FHIR, DICOM).\n",
      "   - These agents can automatically translate and normalize data formats from different systems to a unified schema, ensuring interoperability.\n",
      "\n",
      "2. **Secure Data Exchange & Consent Management:**\n",
      "   - Incorporate privacy-preserving AI agents that manage patient consent, ensuring compliance with regulations like HIPAA and GDPR.\n",
      "   - Use encryption and blockchain-like logging for secure, auditable data sharing.\n",
      "\n",
      "3. **Intelligent Data Routing & Prioritization:**\n",
      "   - The agent autonomously assesses incoming data requests and determines the relevant, authorized data sources.\n",
      "   - Prioritizes urgent care needs, facilitating real-time or near-real-time data exchange.\n",
      "\n",
      "4. **Adaptive Learning & Continuous Optimization:**\n",
      "   - The system learns from interaction patterns, improving translation accuracy, data mapping, and routing efficiency over time.\n",
      "   - Identifies and suggests workflow improvements for interoperability bottlenecks.\n",
      "\n",
      "5. **Decentralized Knowledge Graph & Ontology Management:**\n",
      "   - Maintain a dynamic, shared knowledge graph of healthcare concepts, enabling semantic interoperability.\n",
      "   - Agents use this to interpret, reconcile, and link data from different sources accurately.\n",
      "\n",
      "**Operational Workflow:**\n",
      "- When a healthcare provider requests patient data, ADICA autonomously:\n",
      "  - Verifies permissions and patient consent.\n",
      "  - Translates and maps data from various systems into a common format.\n",
      "  - Ensures secure data transmission.\n",
      "  - Notifies involved parties, providing real-time updates.\n",
      "\n",
      "**Benefits:**\n",
      "- Automates complex data integration tasks.\n",
      "- Reduces manual effort and errors.\n",
      "- Enhances care coordination through timely, comprehensive data sharing.\n",
      "- Maintains compliance and data privacy standards.\n",
      "\n",
      "**Implementation Considerations:**\n",
      "- Establish robust governance frameworks.\n",
      "- Ensure scalability for systemic integration.\n",
      "- Incorporate human oversight for critical decisions and error handling.\n",
      "\n",
      "**Conclusion:**\n",
      "An Agentic AI solution like ADICA can revolutionize healthcare interoperability by acting as an autonomous, intelligent facilitator—breaking down silos, ensuring secure and standardized data exchanges, and ultimately enabling more coordinated, patient-centered care.\n"
     ]
    }
   ],
   "source": [
    "messages = [{\"role\": \"user\", \"content\": f\"Please propose an Agentic AI solutuion for the {pain_point} in the {business_idea} industry\"}]\n",
    "\n",
    "response = openai.chat.completions.create(\n",
    "    model=\"gpt-4.1-nano\",\n",
    "    messages=messages\n",
    ")\n",
    "\n",
    "solution = response.choices[0].message.content\n",
    "print(solution)"
   ]
  },
  {
   "cell_type": "code",
   "execution_count": 16,
   "metadata": {},
   "outputs": [
    {
     "data": {
      "text/markdown": [
       "To address the limited interoperability between healthcare systems and enhance seamless data sharing and care coordination, an Agentic AI solution can be designed with the following approach:\n",
       "\n",
       "**Overview:**\n",
       "Implement an **Autonomous Data Integration and Coordination Agent (ADICA)**—an intelligent, agent-based system that acts as an independent facilitator for secure, standardized, and efficient data exchange across disparate healthcare platforms.\n",
       "\n",
       "**Key Components & Functionality:**\n",
       "\n",
       "1. **Standardized Data Translator Agents:**\n",
       "   - Develop specialized agents that understand various healthcare data standards (e.g., HL7, FHIR, DICOM).\n",
       "   - These agents can automatically translate and normalize data formats from different systems to a unified schema, ensuring interoperability.\n",
       "\n",
       "2. **Secure Data Exchange & Consent Management:**\n",
       "   - Incorporate privacy-preserving AI agents that manage patient consent, ensuring compliance with regulations like HIPAA and GDPR.\n",
       "   - Use encryption and blockchain-like logging for secure, auditable data sharing.\n",
       "\n",
       "3. **Intelligent Data Routing & Prioritization:**\n",
       "   - The agent autonomously assesses incoming data requests and determines the relevant, authorized data sources.\n",
       "   - Prioritizes urgent care needs, facilitating real-time or near-real-time data exchange.\n",
       "\n",
       "4. **Adaptive Learning & Continuous Optimization:**\n",
       "   - The system learns from interaction patterns, improving translation accuracy, data mapping, and routing efficiency over time.\n",
       "   - Identifies and suggests workflow improvements for interoperability bottlenecks.\n",
       "\n",
       "5. **Decentralized Knowledge Graph & Ontology Management:**\n",
       "   - Maintain a dynamic, shared knowledge graph of healthcare concepts, enabling semantic interoperability.\n",
       "   - Agents use this to interpret, reconcile, and link data from different sources accurately.\n",
       "\n",
       "**Operational Workflow:**\n",
       "- When a healthcare provider requests patient data, ADICA autonomously:\n",
       "  - Verifies permissions and patient consent.\n",
       "  - Translates and maps data from various systems into a common format.\n",
       "  - Ensures secure data transmission.\n",
       "  - Notifies involved parties, providing real-time updates.\n",
       "\n",
       "**Benefits:**\n",
       "- Automates complex data integration tasks.\n",
       "- Reduces manual effort and errors.\n",
       "- Enhances care coordination through timely, comprehensive data sharing.\n",
       "- Maintains compliance and data privacy standards.\n",
       "\n",
       "**Implementation Considerations:**\n",
       "- Establish robust governance frameworks.\n",
       "- Ensure scalability for systemic integration.\n",
       "- Incorporate human oversight for critical decisions and error handling.\n",
       "\n",
       "**Conclusion:**\n",
       "An Agentic AI solution like ADICA can revolutionize healthcare interoperability by acting as an autonomous, intelligent facilitator—breaking down silos, ensuring secure and standardized data exchanges, and ultimately enabling more coordinated, patient-centered care."
      ],
      "text/plain": [
       "<IPython.core.display.Markdown object>"
      ]
     },
     "metadata": {},
     "output_type": "display_data"
    }
   ],
   "source": [
    "display(Markdown(solution))"
   ]
  },
  {
   "cell_type": "markdown",
   "metadata": {},
   "source": []
  }
 ],
 "metadata": {
  "kernelspec": {
   "display_name": ".venv",
   "language": "python",
   "name": "python3"
  },
  "language_info": {
   "codemirror_mode": {
    "name": "ipython",
    "version": 3
   },
   "file_extension": ".py",
   "mimetype": "text/x-python",
   "name": "python",
   "nbconvert_exporter": "python",
   "pygments_lexer": "ipython3",
   "version": "3.12.7"
  }
 },
 "nbformat": 4,
 "nbformat_minor": 2
}
